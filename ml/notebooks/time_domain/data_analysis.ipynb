{
 "cells": [
  {
   "cell_type": "markdown",
   "metadata": {},
   "source": [
    "# Classification de genres musicaux\n",
    "\n",
    "[GTZAN](http://opihi.cs.uvic.ca/sound/genres.tar.gz)\n",
    "\n",
    "+ Description:\n",
    "L'ensemble de données se compose de 1000 pistes audio d'une durée de 30 secondes. \n",
    "\n",
    "Il contient 10 genres, chacun représenté par 100 pistes. \n",
    "\n",
    "Les pistes sont toutes des fichiers audio mono 16 bits à 22050 Hz au format .wav.\n",
    "\n",
    "Les genres sont :\n",
    "\n",
    "+ blues\n",
    "+ classique\n",
    "+ country\n",
    "+ disco\n",
    "+ hip hop\n",
    "+ jazz\n",
    "+ metal\n",
    "+ pop\n",
    "+ reggae\n",
    "+ rock"
   ]
  },
  {
   "cell_type": "markdown",
   "metadata": {},
   "source": [
    "# Préparation des données\n",
    "\n",
    "Le sample rate (taux d'échantillonage) correspond à la moyenne du nombre d'échantillons capturés en 1 seconde. \n",
    "\n",
    "Afin de constituer les données d'entrainements, chaque piste audio est découpée en piste de *n* secondes avec un pas de *m* secondes. \n",
    "(e.g., pour *n=2* et *m=1* : de 0 à 2 secondes, de 1 à 3 secondes ...).\n",
    "\n",
    "Chaque piste audio de *n* secondes correspond à un array de taille [sample rate * *n*]"
   ]
  },
  {
   "cell_type": "code",
   "execution_count": 1,
   "metadata": {},
   "outputs": [],
   "source": [
    "import os\n",
    "import sys\n",
    "sys.path.append(\"../\")\n",
    "\n",
    "import pandas as pd\n",
    "pd.set_option('display.max_columns', 10000)\n",
    "\n",
    "#Audio Processing Libraries\n",
    "import librosa\n",
    "from scipy import signal\n",
    "#For Playing Audio\n",
    "import IPython.display as ipd\n",
    "#Array Processing\n",
    "import numpy as np\n",
    "#Data Visualization\n",
    "import matplotlib.pyplot as plt\n"
   ]
  },
  {
   "cell_type": "code",
   "execution_count": 2,
   "metadata": {},
   "outputs": [],
   "source": [
    "from glob import glob\n",
    "\n",
    "def prepare_tensor(data_dir, num_of_samples=44100, num_of_common=22050):\n",
    "    full_data = []\n",
    "    full_labels = []\n",
    "    genres = os.listdir(data_dir)\n",
    "    for i, genre in enumerate(genres):\n",
    "        files = glob(os.path.join(data_dir, genre, '**'))\n",
    "        for file in files:\n",
    "            tmp_data = []\n",
    "            data, _ = librosa.load(file, sr=num_of_common)\n",
    "            for offset in range(0, len(data), num_of_common):\n",
    "                start = offset\n",
    "                end   = offset + num_of_samples\n",
    "                chunk = data[start:end]\n",
    "                if(len(chunk)==num_of_samples):\n",
    "                    tmp_data.append(chunk)\n",
    "            tmp_labels = [i for _ in range(len(tmp_data))]\n",
    "            full_labels += tmp_labels\n",
    "            full_data += tmp_data\n",
    "    return np.array(full_data), np.array(full_labels)\n"
   ]
  },
  {
   "cell_type": "code",
   "execution_count": null,
   "metadata": {},
   "outputs": [],
   "source": []
  },
  {
   "cell_type": "code",
   "execution_count": 3,
   "metadata": {},
   "outputs": [
    {
     "name": "stdout",
     "output_type": "stream",
     "text": [
      "(28991, 44100) 28991\n"
     ]
    }
   ],
   "source": [
    "DATA_DIR = '../../data/01/genres/'\n",
    "\n",
    "audio, labels = prepare_tensor(DATA_DIR)\n",
    "print(audio.shape, len(labels))\n"
   ]
  },
  {
   "cell_type": "code",
   "execution_count": 4,
   "metadata": {},
   "outputs": [],
   "source": [
    "from sklearn.model_selection import train_test_split\n",
    "x_tr, x_val, y_tr, y_val = train_test_split(\n",
    "    audio, labels,\n",
    "    stratify=labels, test_size=0.2,\n",
    "    random_state=777, shuffle=True\n",
    ")"
   ]
  },
  {
   "cell_type": "code",
   "execution_count": 5,
   "metadata": {},
   "outputs": [],
   "source": [
    "del audio, labels"
   ]
  },
  {
   "cell_type": "code",
   "execution_count": 6,
   "metadata": {},
   "outputs": [
    {
     "name": "stdout",
     "output_type": "stream",
     "text": [
      "Reshaped Array Size (23192, 44100, 1)\n"
     ]
    }
   ],
   "source": [
    "x_tr_features = x_tr.reshape(len(x_tr), -1, 1)\n",
    "x_val_features = x_val.reshape(len(x_val), -1, 1)\n",
    "print(\"Reshaped Array Size\", x_tr_features.shape)"
   ]
  },
  {
   "cell_type": "code",
   "execution_count": 7,
   "metadata": {},
   "outputs": [],
   "source": [
    "del x_tr, x_val"
   ]
  },
  {
   "cell_type": "markdown",
   "metadata": {},
   "source": [
    "## simple CNN"
   ]
  },
  {
   "cell_type": "code",
   "execution_count": 8,
   "metadata": {},
   "outputs": [
    {
     "name": "stderr",
     "output_type": "stream",
     "text": [
      "2022-02-15 12:14:56.100367: I tensorflow/stream_executor/cuda/cuda_gpu_executor.cc:936] successful NUMA node read from SysFS had negative value (-1), but there must be at least one NUMA node, so returning NUMA node zero\n",
      "2022-02-15 12:14:56.149190: W tensorflow/stream_executor/platform/default/dso_loader.cc:64] Could not load dynamic library 'libcusolver.so.11'; dlerror: libcusolver.so.11: cannot open shared object file: No such file or directory\n",
      "2022-02-15 12:14:56.154949: W tensorflow/core/common_runtime/gpu/gpu_device.cc:1850] Cannot dlopen some GPU libraries. Please make sure the missing libraries mentioned above are installed properly if you would like to use GPU. Follow the guide at https://www.tensorflow.org/install/gpu for how to download and setup the required libraries for your platform.\n",
      "Skipping registering GPU devices...\n",
      "2022-02-15 12:14:56.156911: I tensorflow/core/platform/cpu_feature_guard.cc:151] This TensorFlow binary is optimized with oneAPI Deep Neural Network Library (oneDNN) to use the following CPU instructions in performance-critical operations:  AVX2 FMA\n",
      "To enable them in other operations, rebuild TensorFlow with the appropriate compiler flags.\n"
     ]
    }
   ],
   "source": [
    "from keras.layers import *\n",
    "from keras.models import *\n",
    "from keras.callbacks import *\n",
    "from keras.metrics import CategoricalAccuracy\n",
    "from keras.losses import CategoricalCrossentropy\n",
    "from keras import backend as K\n",
    "\n",
    "def cnn(x_tr):\n",
    "  K.clear_session()\n",
    "  inputs = Input(shape=(x_tr.shape[1], x_tr.shape[2]))\n",
    "  #First Conv1D layer\n",
    "  conv = Conv1D(8, 3, padding='same', activation='sigmoid')(inputs)\n",
    "  conv = Dropout(0.3)(conv)\n",
    "  conv = MaxPooling1D(10)(conv)\n",
    "  #Second Conv1D layer\n",
    "  conv = Conv1D(16, 3, padding='same', activation='sigmoid')(conv)\n",
    "  conv = Dropout(0.3)(conv)\n",
    "  conv = MaxPooling1D(10)(conv)\n",
    "  #MaxPooling 1D\n",
    "  conv = GlobalMaxPool1D()(conv)\n",
    "  #Dense Layer\n",
    "  conv = Dense(16, activation='sigmoid')(conv)\n",
    "  outputs = Dense(10, activation='softmax')(conv)\n",
    "  model = Model(inputs, outputs)\n",
    "  model.compile(\n",
    "      loss=\"sparse_categorical_crossentropy\",\n",
    "    optimizer='adam',\n",
    "    metrics=[\n",
    "      \"categorical_accuracy\"]\n",
    "  )\n",
    "  return model\n",
    "\n",
    "\n",
    "model = cnn(x_tr_features)\n"
   ]
  },
  {
   "cell_type": "code",
   "execution_count": 9,
   "metadata": {},
   "outputs": [
    {
     "name": "stdout",
     "output_type": "stream",
     "text": [
      "Model: \"model\"\n",
      "_________________________________________________________________\n",
      " Layer (type)                Output Shape              Param #   \n",
      "=================================================================\n",
      " input_1 (InputLayer)        [(None, 44100, 1)]        0         \n",
      "                                                                 \n",
      " conv1d (Conv1D)             (None, 44100, 8)          32        \n",
      "                                                                 \n",
      " dropout (Dropout)           (None, 44100, 8)          0         \n",
      "                                                                 \n",
      " max_pooling1d (MaxPooling1D  (None, 4410, 8)          0         \n",
      " )                                                               \n",
      "                                                                 \n",
      " conv1d_1 (Conv1D)           (None, 4410, 16)          400       \n",
      "                                                                 \n",
      " dropout_1 (Dropout)         (None, 4410, 16)          0         \n",
      "                                                                 \n",
      " max_pooling1d_1 (MaxPooling  (None, 441, 16)          0         \n",
      " 1D)                                                             \n",
      "                                                                 \n",
      " global_max_pooling1d (Globa  (None, 16)               0         \n",
      " lMaxPooling1D)                                                  \n",
      "                                                                 \n",
      " dense (Dense)               (None, 16)                272       \n",
      "                                                                 \n",
      " dense_1 (Dense)             (None, 10)                170       \n",
      "                                                                 \n",
      "=================================================================\n",
      "Total params: 874\n",
      "Trainable params: 874\n",
      "Non-trainable params: 0\n",
      "_________________________________________________________________\n"
     ]
    }
   ],
   "source": [
    "model.summary()"
   ]
  },
  {
   "cell_type": "code",
   "execution_count": 10,
   "metadata": {},
   "outputs": [
    {
     "name": "stdout",
     "output_type": "stream",
     "text": [
      "Epoch 1/10\n"
     ]
    },
    {
     "name": "stderr",
     "output_type": "stream",
     "text": [
      "2022-02-15 12:14:56.599348: W tensorflow/core/framework/cpu_allocator_impl.cc:82] Allocation of 4091068800 exceeds 10% of free system memory.\n"
     ]
    },
    {
     "name": "stdout",
     "output_type": "stream",
     "text": [
      "725/725 [==============================] - ETA: 0s - loss: 2.3092 - categorical_accuracy: 0.1306"
     ]
    },
    {
     "name": "stderr",
     "output_type": "stream",
     "text": [
      "2022-02-15 12:17:20.131785: W tensorflow/core/framework/cpu_allocator_impl.cc:82] Allocation of 1022943600 exceeds 10% of free system memory.\n"
     ]
    },
    {
     "name": "stdout",
     "output_type": "stream",
     "text": [
      "725/725 [==============================] - 169s 232ms/step - loss: 2.3092 - categorical_accuracy: 0.1306 - val_loss: 2.2955 - val_categorical_accuracy: 0.2107\n",
      "Epoch 2/10\n",
      "725/725 [==============================] - 147s 202ms/step - loss: 2.1894 - categorical_accuracy: 0.2519 - val_loss: 2.1198 - val_categorical_accuracy: 0.0000e+00\n",
      "Epoch 3/10\n",
      "725/725 [==============================] - 148s 205ms/step - loss: 2.0053 - categorical_accuracy: 0.1164 - val_loss: 2.0248 - val_categorical_accuracy: 0.1173\n",
      "Epoch 4/10\n",
      "725/725 [==============================] - 372s 513ms/step - loss: 1.9460 - categorical_accuracy: 0.1564 - val_loss: 1.9884 - val_categorical_accuracy: 0.2162\n",
      "Epoch 5/10\n",
      "725/725 [==============================] - 138s 191ms/step - loss: 1.9213 - categorical_accuracy: 0.1688 - val_loss: 1.9570 - val_categorical_accuracy: 0.2459\n",
      "Epoch 6/10\n",
      "725/725 [==============================] - 138s 190ms/step - loss: 1.9070 - categorical_accuracy: 0.1798 - val_loss: 1.9379 - val_categorical_accuracy: 0.1602\n",
      "Epoch 7/10\n",
      "725/725 [==============================] - 134s 185ms/step - loss: 1.8951 - categorical_accuracy: 0.1806 - val_loss: 1.9267 - val_categorical_accuracy: 0.1723\n",
      "Epoch 8/10\n",
      "725/725 [==============================] - 134s 185ms/step - loss: 1.8850 - categorical_accuracy: 0.1840 - val_loss: 1.9221 - val_categorical_accuracy: 0.1395\n",
      "Epoch 9/10\n",
      "725/725 [==============================] - 134s 184ms/step - loss: 1.8749 - categorical_accuracy: 0.1861 - val_loss: 1.9098 - val_categorical_accuracy: 0.1924\n",
      "Epoch 10/10\n",
      "725/725 [==============================] - 134s 185ms/step - loss: 1.8651 - categorical_accuracy: 0.1915 - val_loss: 1.9060 - val_categorical_accuracy: 0.1493\n"
     ]
    }
   ],
   "source": [
    "history = model.fit(\n",
    "    x_tr_features, \n",
    "    y_tr, \n",
    "    epochs=10, \n",
    "    callbacks=[\n",
    "        EarlyStopping(\n",
    "            monitor='val_loss', \n",
    "            min_delta=.01, \n",
    "            patience=3, \n",
    "            restore_best_weights=True)\n",
    "    ],\n",
    "    batch_size=32, \n",
    "    validation_data=(x_val_features, y_val)\n",
    ")\n"
   ]
  },
  {
   "cell_type": "code",
   "execution_count": 11,
   "metadata": {},
   "outputs": [
    {
     "data": {
      "image/png": "[encoded data removed]",
      "text/plain": [
       "<Figure size 432x288 with 1 Axes>"
      ]
     },
     "metadata": {
      "needs_background": "light"
     },
     "output_type": "display_data"
    }
   ],
   "source": [
    "plt.plot(history.history['loss'])\n",
    "\n",
    "plt.plot(history.history['val_loss'])\n",
    "\n",
    "plt.title('Model loss')\n",
    "\n",
    "plt.xlabel('Epochs')\n",
    "\n",
    "plt.ylabel('Loss')\n",
    "\n",
    "plt.legend(['train', 'validation'], loc='upper right')\n",
    "\n",
    "plt.show()\n"
   ]
  },
  {
   "cell_type": "code",
   "execution_count": null,
   "metadata": {},
   "outputs": [],
   "source": [
    "model.evaluate(x_val_features, y_val)"
   ]
  }
 ],
 "metadata": {
  "interpreter": {
   "hash": "31f2aee4e71d21fbe5cf8b01ff0e069b9275f58929596ceb00d14d90e3e16cd6"
  },
  "kernelspec": {
   "display_name": "Python 3.8.10 64-bit",
   "language": "python",
   "name": "python3"
  },
  "language_info": {
   "codemirror_mode": {
    "name": "ipython",
    "version": 3
   },
   "file_extension": ".py",
   "mimetype": "text/x-python",
   "name": "python",
   "nbconvert_exporter": "python",
   "pygments_lexer": "ipython3",
   "version": "3.8.12"
  },
  "orig_nbformat": 2
 },
 "nbformat": 4,
 "nbformat_minor": 2
}
