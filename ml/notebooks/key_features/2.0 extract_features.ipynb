{
 "cells": [
  {
   "cell_type": "code",
   "execution_count": 1,
   "metadata": {},
   "outputs": [],
   "source": [
    "import librosa\n",
    "import pandas as pd\n",
    "pd.set_option('display.max_rows', 10000)\n",
    "import sys\n",
    "sys.path.append(\"../../\")\n",
    "import os\n",
    "\n",
    "from functions import extract_features\n"
   ]
  },
  {
   "cell_type": "markdown",
   "metadata": {},
   "source": [
    "## Get the data\n",
    "+ [Download the GTZAN genre collection dataset](http://opihi.cs.uvic.ca/sound/genres.tar.gz) (Approximately 1.2GB)\n",
    "\n",
    "+ If needed, adapt the paths to your data structure. "
   ]
  },
  {
   "cell_type": "code",
   "execution_count": 2,
   "metadata": {},
   "outputs": [],
   "source": [
    "archive_path = '../../data/01/genres.tar.gz'\n",
    "input_folder = '../../data/01/genres'\n",
    "output_folder='../../data/01/splits'\n",
    "\n",
    "if not os.path.isdir(input_folder):\n",
    "    !tar -zxf $archive_path -C '../../data/01'\n"
   ]
  },
  {
   "cell_type": "markdown",
   "metadata": {},
   "source": [
    "### Splitting data into train / val / test folders"
   ]
  },
  {
   "cell_type": "code",
   "execution_count": 3,
   "metadata": {},
   "outputs": [
    {
     "name": "stderr",
     "output_type": "stream",
     "text": [
      "Copying files: 1000 files [00:02, 363.65 files/s]\n"
     ]
    }
   ],
   "source": [
    "from tqdm import tqdm\n",
    "from glob import glob\n",
    "import splitfolders\n",
    "\n",
    "\n",
    "splitfolders.ratio(\n",
    "    input=input_folder,\n",
    "    output=output_folder,\n",
    "    seed=1234, \n",
    "    ratio=(.8, .1, .1)\n",
    ")"
   ]
  },
  {
   "cell_type": "code",
   "execution_count": 4,
   "metadata": {},
   "outputs": [
    {
     "name": "stdout",
     "output_type": "stream",
     "text": [
      "[INFO] Start processing train folder...\n",
      "#########################################\n",
      "[INFO] Start processing jazz files...\n"
     ]
    },
    {
     "name": "stderr",
     "output_type": "stream",
     "text": [
      "100%|██████████| 80/80 [05:59<00:00,  4.50s/it]\n"
     ]
    },
    {
     "name": "stdout",
     "output_type": "stream",
     "text": [
      "[INFO] Start processing disco files...\n"
     ]
    },
    {
     "name": "stderr",
     "output_type": "stream",
     "text": [
      "100%|██████████| 80/80 [06:02<00:00,  4.53s/it]\n"
     ]
    },
    {
     "name": "stdout",
     "output_type": "stream",
     "text": [
      "[INFO] Start processing rock files...\n"
     ]
    },
    {
     "name": "stderr",
     "output_type": "stream",
     "text": [
      "100%|██████████| 80/80 [06:05<00:00,  4.57s/it]\n"
     ]
    },
    {
     "name": "stdout",
     "output_type": "stream",
     "text": [
      "[INFO] Start processing country files...\n"
     ]
    },
    {
     "name": "stderr",
     "output_type": "stream",
     "text": [
      "100%|██████████| 80/80 [06:00<00:00,  4.51s/it]\n"
     ]
    },
    {
     "name": "stdout",
     "output_type": "stream",
     "text": [
      "[INFO] Start processing classical files...\n"
     ]
    },
    {
     "name": "stderr",
     "output_type": "stream",
     "text": [
      "100%|██████████| 80/80 [06:02<00:00,  4.53s/it]\n"
     ]
    },
    {
     "name": "stdout",
     "output_type": "stream",
     "text": [
      "[INFO] Start processing metal files...\n"
     ]
    },
    {
     "name": "stderr",
     "output_type": "stream",
     "text": [
      "100%|██████████| 80/80 [06:12<00:00,  4.66s/it]\n"
     ]
    },
    {
     "name": "stdout",
     "output_type": "stream",
     "text": [
      "[INFO] Start processing reggae files...\n"
     ]
    },
    {
     "name": "stderr",
     "output_type": "stream",
     "text": [
      "100%|██████████| 80/80 [05:58<00:00,  4.48s/it]\n"
     ]
    },
    {
     "name": "stdout",
     "output_type": "stream",
     "text": [
      "[INFO] Start processing hiphop files...\n"
     ]
    },
    {
     "name": "stderr",
     "output_type": "stream",
     "text": [
      " 92%|█████████▎| 74/80 [05:33<00:27,  4.60s/it]"
     ]
    }
   ],
   "source": [
    "duration_ratio = 30\n",
    "step_ratio = 30\n",
    "\n",
    "for split in os.listdir(output_folder):\n",
    "    print(f\"[INFO] Start processing {split} folder...\")\n",
    "    print(f\"#########################################\")\n",
    "    df = pd.DataFrame()\n",
    "\n",
    "    genres = os.listdir(os.path.join(output_folder, split))\n",
    "\n",
    "    for genre in genres:\n",
    "        print(f\"[INFO] Start processing {genre} files...\")\n",
    "        # get all files of each set\n",
    "        files = glob(os.path.join(output_folder, split, genre, '**'))\n",
    "        for file in tqdm(files):\n",
    "            tmp_datas = []\n",
    "            data, sr = librosa.load(file)\n",
    "            # split each file in chunks of {duration_ratio} with a step of {step_ratio}\n",
    "            for offset in range(0, len(data), sr * step_ratio):\n",
    "                start = offset\n",
    "                end = offset + sr * duration_ratio\n",
    "                chunk = data[start:end]\n",
    "                if(len(chunk) == sr * duration_ratio):\n",
    "                    tmp_datas.append(chunk)\n",
    "            for i, y in enumerate(tmp_datas):\n",
    "                # extract features from each sample\n",
    "                data = extract_features(y, sr)\n",
    "                filename = f\"{os.path.basename(file).strip('.wav')}_{i}.wav\"\n",
    "                data.update({\n",
    "                    \"filename\": filename,\n",
    "                    \"genre\": genre,\n",
    "                })\n",
    "                # add features to the dataframe\n",
    "                df = df.append(data, True)\n",
    "    dataframe_folder = f'../../data/02/{duration_ratio}-{step_ratio}'\n",
    "    if not os.path.isdir(dataframe_folder):\n",
    "        os.makedirs(dataframe_folder)\n",
    "    # save the dataframe\n",
    "    df.to_csv(f'{dataframe_folder}/{duration_ratio}-{step_ratio}_{split}_df.csv')\n"
   ]
  }
 ],
 "metadata": {
  "interpreter": {
   "hash": "8da74391528d3bfeccf7ebd1c6882e15b5e1d9aa56b60de330194de8694f4f76"
  },
  "kernelspec": {
   "display_name": "Python 3.8.12 ('sound')",
   "language": "python",
   "name": "python3"
  },
  "language_info": {
   "codemirror_mode": {
    "name": "ipython",
    "version": 3
   },
   "file_extension": ".py",
   "mimetype": "text/x-python",
   "name": "python",
   "nbconvert_exporter": "python",
   "pygments_lexer": "ipython3",
   "version": "3.8.12"
  },
  "orig_nbformat": 4
 },
 "nbformat": 4,
 "nbformat_minor": 2
}
