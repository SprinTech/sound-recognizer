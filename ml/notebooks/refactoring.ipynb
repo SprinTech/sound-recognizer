{
 "cells": [
  {
   "cell_type": "code",
   "execution_count": null,
   "metadata": {},
   "outputs": [],
   "source": [
    "def compute_values(name, features):\n",
    "    mean_labels = [f\"{name}_{i}_mean\" for i in range(len(features))]\n",
    "    var_labels = [f\"{name}_{i}_var\" for i in range(len(features))]\n",
    "    means = [np.mean(feature) for feature in features]\n",
    "    vars = [np.var(feature) for feature in features]\n",
    "    labels = mean_labels + var_labels\n",
    "    values = means + vars\n",
    "    results = dict(zip(labels, values))\n",
    "\n",
    "    return results\n"
   ]
  }
 ],
 "metadata": {
  "language_info": {
   "name": "python"
  },
  "orig_nbformat": 4
 },
 "nbformat": 4,
 "nbformat_minor": 2
}
