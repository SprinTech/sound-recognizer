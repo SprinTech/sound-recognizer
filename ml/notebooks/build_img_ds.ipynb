{
 "cells": [
  {
   "cell_type": "code",
   "execution_count": 4,
   "metadata": {},
   "outputs": [
    {
     "data": {
      "text/plain": [
       "(720, 720, 4)"
      ]
     },
     "execution_count": 4,
     "metadata": {},
     "output_type": "execute_result"
    }
   ],
   "source": [
    "import matplotlib.pyplot as plt\n",
    "plt.imread('../data/02/image_files/country/country00000_0.png').shape"
   ]
  },
  {
   "cell_type": "code",
   "execution_count": null,
   "metadata": {},
   "outputs": [],
   "source": [
    "import tensorflow as tf\n",
    "import os\n",
    "\n",
    "# Dataset Parameters - CHANGE HERE\n",
    "MODE = 'folder'  # or 'file', if you choose a plain text file (see above).\n",
    "# the dataset file or root folder path.\n",
    "DATASET_PATH = '../data/02/image_files'\n",
    "\n",
    "# Image Parameters\n",
    "N_CLASSES = 10  # CHANGE HERE, total number of classes\n",
    "IMG_HEIGHT = 64  # CHANGE HERE, the image height to be resized to\n",
    "IMG_WIDTH = 64  # CHANGE HERE, the image width to be resized to\n",
    "CHANNELS = 3  # The 3 color channels, change to 1 if grayscale\n"
   ]
  }
 ],
 "metadata": {
  "interpreter": {
   "hash": "115c9510cb649dc8f01565d649709ce1cc09e0d785045a885b5d88662640fd38"
  },
  "kernelspec": {
   "display_name": "Python 3.8.12 ('sound')",
   "language": "python",
   "name": "python3"
  },
  "language_info": {
   "codemirror_mode": {
    "name": "ipython",
    "version": 3
   },
   "file_extension": ".py",
   "mimetype": "text/x-python",
   "name": "python",
   "nbconvert_exporter": "python",
   "pygments_lexer": "ipython3",
   "version": "3.8.12"
  },
  "orig_nbformat": 4
 },
 "nbformat": 4,
 "nbformat_minor": 2
}
